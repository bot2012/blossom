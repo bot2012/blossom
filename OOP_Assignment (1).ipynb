{
  "cells": [
    {
      "cell_type": "markdown",
      "id": "0acc2290",
      "metadata": {
        "id": "0acc2290"
      },
      "source": [
        "### OOP Asignment"
      ]
    },
    {
      "cell_type": "markdown",
      "id": "5596f158",
      "metadata": {
        "id": "5596f158"
      },
      "source": [
        "**Kindly read the instructions carefully to solve the problems**\n",
        "\n",
        "**Make good use of try,except,finally and exceptions**"
      ]
    },
    {
      "cell_type": "markdown",
      "id": "478c3dde",
      "metadata": {
        "id": "478c3dde"
      },
      "source": [
        "### Q1 Numbers"
      ]
    },
    {
      "cell_type": "markdown",
      "id": "PPHM5gum2zNf",
      "metadata": {
        "id": "PPHM5gum2zNf"
      },
      "source": []
    },
    {
      "cell_type": "markdown",
      "id": "59ddfbd6",
      "metadata": {
        "id": "59ddfbd6"
      },
      "source": [
        "- Create a Class **Number** initialized with a single number.\n",
        "- Create the following methods for the class:\n",
        "    * check_even : Check if number is an even number (Return True or False)\n",
        "    * check_odd:  Check if number is an odd number (Return True or False)\n",
        "    * check_prime : Check if number is prime number (Return True or False)\n",
        "    * check_perfect: Chek if a number is a perfect square  (Return True or False) eg 100 is a perfect square because 10*10 =100\n",
        "    \n",
        "    "
      ]
    },
    {
      "cell_type": "code",
      "execution_count": 30,
      "id": "RmWMxINifAGx",
      "metadata": {
        "id": "RmWMxINifAGx"
      },
      "outputs": [
        {
          "data": {
            "text/plain": [
              "True"
            ]
          },
          "execution_count": 30,
          "metadata": {},
          "output_type": "execute_result"
        }
      ],
      "source": [
        "class Number:\n",
        "    def __int__(self):\n",
        "        return self\n",
        "        \n",
        "    def check_even(self, num):\n",
        "        \"\"\"\n",
        "        Returns True if a number is even, else False\n",
        "        \"\"\"\n",
        "        if num % 2 == 0: #Check if the number even\n",
        "            return True\n",
        "        else:\n",
        "            return False\n",
        "        \n",
        "    def check_odd(self, num):\n",
        "        \"\"\"\n",
        "        Returns True if a num is odd, False otherwise.\n",
        "        \"\"\"\n",
        "        if num % 2 != 0:\n",
        "            return True\n",
        "        else: \n",
        "            return False\n",
        "        \n",
        "    def check_prime(self, num):\n",
        "        \"\"\"\n",
        "        Returns True if num is prime, False otherwise.\n",
        "        \"\"\"\n",
        "        if num <= 1:\n",
        "            return False\n",
        "        elif num == 2:\n",
        "            return True\n",
        "        elif num % 2 == 0:\n",
        "            return False\n",
        "        else:\n",
        "            i = 3\n",
        "            while i <= int(num ** 0.5) + 1:\n",
        "                if num % i == 0:\n",
        "                    return False\n",
        "                i += 2\n",
        "            return True\n",
        "    def check_perfect(self, num):\n",
        "        \"\"\"\n",
        "        Returns True if num is a perfect square, False otherwise.\n",
        "        \"\"\"\n",
        "        if num < 0:\n",
        "            return False\n",
        "        elif num == 0:\n",
        "            return True\n",
        "        else:\n",
        "            i = 1\n",
        "            while i * i <= num:\n",
        "                if i * i == num:\n",
        "                    return True\n",
        "                i += 1\n",
        "            return False\n",
        "    \n",
        "number = Number()\n",
        "number.check_perfect(121)"
      ]
    },
    {
      "cell_type": "code",
      "execution_count": null,
      "id": "ORw3nGLP7mDm",
      "metadata": {
        "id": "ORw3nGLP7mDm"
      },
      "outputs": [],
      "source": []
    },
    {
      "cell_type": "markdown",
      "id": "2a88331d",
      "metadata": {
        "id": "2a88331d"
      },
      "source": [
        "### Q2 Points"
      ]
    },
    {
      "cell_type": "markdown",
      "id": "e3ea2034",
      "metadata": {
        "id": "e3ea2034"
      },
      "source": [
        "* Define a class Point that represents a point in the 2D plane. The point has x and y coordinate.\n",
        "* Define the following functions:\n",
        "    - point_2D: return the point in this format \"Point(3,2)\"\n",
        "    - getX : return the value of x coordinate\n",
        "    - getY: return the value of y coordiante\n",
        "    - add_transfrom : add another point to the created point. eg P(1,2)+P(2,3) = P(3,5)\n",
        "    - distance_origin : return the distance from origin(0,0)  ie ((x ** 2)+ (y ** 2)) ** 0.5\n",
        "    - distance: calculate the distance between two point i.e ((x2-x1) ** 2 + (y2-y1) ** 2)**0.5\n",
        "    "
      ]
    },
    {
      "cell_type": "code",
      "execution_count": 31,
      "id": "55vExddR-GjD",
      "metadata": {
        "id": "55vExddR-GjD"
      },
      "outputs": [
        {
          "data": {
            "text/plain": [
              "'Distance between the two points 7.810249675906654'"
            ]
          },
          "execution_count": 31,
          "metadata": {},
          "output_type": "execute_result"
        }
      ],
      "source": [
        "class Point:\n",
        "    def __init__(self, x=None, y=None):\n",
        "        self.x = x\n",
        "        self.y = y\n",
        "    def point_2D(self):\n",
        "        return f\"Point {self.x,self.y}\"\n",
        "    \n",
        "    def getX(self):\n",
        "        return self.x\n",
        "    \n",
        "    def getY(self):\n",
        "        return self.y\n",
        "    \n",
        "    def add_transform(self, point1, point2):\n",
        "        self.point1 = point1\n",
        "        self.point2 = point2\n",
        "        sum1 = point1.x + point2.x\n",
        "        sum2 = point2.y + point2.y\n",
        "        return f\"Point {sum1,sum2}\"\n",
        "    \n",
        "    def distance_origin(self):\n",
        "        origin_dis = ((self.x ** 2) + (self.y ** 2)) ** 0.5\n",
        "        return f\"Distance from the origin is {origin_dis}\" \n",
        "    \n",
        "    def distance(self, point1, point2):\n",
        "        self.point1 = point1\n",
        "        self.point2 =  point2\n",
        "        dist = ((point2.x - point1.x) **2 + (point2.y - point1.x) **2 ) ** 0.5\n",
        "        return f\"Distance between the two points {dist}\"\n",
        "        \n",
        "    \n",
        "p1 = Point(10,12)\n",
        "p2 = Point(4,5)\n",
        "\n",
        "trans = Point()\n",
        "dist = Point(4,4)\n",
        "dist.distance_origin()\n",
        "dist.distance(p1, p2)\n",
        "\n",
        "# trans.add_transform('p(2,3)', 'p(3,4)')\n",
        "\n",
        "#p1.add_transform(p1,p2)\n"
      ]
    },
    {
      "cell_type": "markdown",
      "id": "acf4db9e",
      "metadata": {
        "id": "acf4db9e"
      },
      "source": [
        "### Q3 Polygon Area Calulator"
      ]
    },
    {
      "cell_type": "markdown",
      "id": "18c26367",
      "metadata": {
        "id": "18c26367"
      },
      "source": [
        "- Using OOP create a **Square** and a **Rectangle** class\n"
      ]
    },
    {
      "cell_type": "markdown",
      "id": "a6d80485",
      "metadata": {
        "id": "a6d80485"
      },
      "source": [
        "#### Rectangle Class"
      ]
    },
    {
      "cell_type": "markdown",
      "id": "915caa6c",
      "metadata": {
        "id": "915caa6c"
      },
      "source": [
        "- The rectangle class should be intialized with `width` and `height` attribute only.\n",
        "\n",
        "- The rectangle class should have the following methods:\n",
        "     - set_width\n",
        "     - set_height\n",
        "     - get_area: Returns area (width * height)\n",
        "     - get_perimeter: Returns perimeter (2 * width        + 2 * height)\n",
        "     - get_diagonal: Returns diagonal ((width ** 2        +  height ** 2) ** .5)\n",
        "     - get_amount_inside: Takes another shape (square or rectangle) as an argument. Returns the number of times the passed in shape could fit inside the shape (with no rotations). **For instance, a rectangle with a width of 4 and a height of 8 could fit in two squares with sides of 4.**\n",
        "     \n",
        "    "
      ]
    },
    {
      "cell_type": "code",
      "execution_count": 32,
      "id": "9y44qVGXI13I",
      "metadata": {
        "id": "9y44qVGXI13I"
      },
      "outputs": [
        {
          "data": {
            "text/plain": [
              "'The diagonal of a circle of width: 4 and height: 5 is 6.4031242374328485'"
            ]
          },
          "execution_count": 32,
          "metadata": {},
          "output_type": "execute_result"
        }
      ],
      "source": [
        "class Rectangle:\n",
        "    def __init__(self, width, height):\n",
        "        self.width = width\n",
        "        self.height = height\n",
        "        \n",
        "    def set_width(self, width):\n",
        "        self.width = width\n",
        "    \n",
        "    def set_height(self, height):\n",
        "        self.height = height\n",
        "    \n",
        "    def get_area(self):\n",
        "        area = self.width * self.height\n",
        "        return f\"Area of width: {self.width} and hight: {self.height} is {area}\"\n",
        "    \n",
        "    def get_perimeter(self):\n",
        "        perimeter = 2 * self.width + 2 * self.height\n",
        "        return f\"The perimeter of a circle of width: {self.width} and height: {self.height} is {perimeter}\"\n",
        "    \n",
        "    def get_diagonal(self):\n",
        "        diagonal = (self.width ** 2 + self.height ** 2) ** 0.5\n",
        "        return f\"The diagonal of a circle of width: {self.width} and height: {self.height} is {diagonal}\"\n",
        "    \n",
        "    # def get_amount_inside(self, shape):\n",
        "    #     if isinstance(shape, Square):\n",
        "    #         return (self.width // shape.side) * (self.height // shape.side)\n",
        "    #     elif isinstance(shape, Rectangle):\n",
        "    #         return (self.width // shape.width) * (self.height // shape.height)\n",
        "    #     else:\n",
        "    #         return None\n",
        "        \n",
        "    \n",
        "area_of_rec = Rectangle(4, 5)\n",
        "area_of_rec.get_area()\n",
        "area_of_rec.get_perimeter()\n",
        "area_of_rec.get_diagonal()\n",
        "#area_of_rec.get_amount_inside(8, Square)"
      ]
    },
    {
      "cell_type": "code",
      "execution_count": null,
      "id": "8nQ_XXjUR9gm",
      "metadata": {
        "id": "8nQ_XXjUR9gm"
      },
      "outputs": [],
      "source": []
    },
    {
      "cell_type": "markdown",
      "id": "28d82897",
      "metadata": {
        "id": "28d82897"
      },
      "source": [
        "### Square class\n"
      ]
    },
    {
      "cell_type": "markdown",
      "id": "b8bb7e5d",
      "metadata": {
        "id": "b8bb7e5d"
      },
      "source": [
        "The Square class should be a subclass of Rectangle. When a Square object is created, a single side length is passed in. The __init__ method should store the side length in both the width and height attributes from the Rectangle class."
      ]
    },
    {
      "cell_type": "code",
      "execution_count": 33,
      "id": "e5a67991",
      "metadata": {},
      "outputs": [
        {
          "data": {
            "text/plain": [
              "'Area of width: 4 and hight: 4 is 16'"
            ]
          },
          "execution_count": 33,
          "metadata": {},
          "output_type": "execute_result"
        }
      ],
      "source": [
        "class Square(Rectangle):\n",
        "    def __init__(self, length):\n",
        "        self.width = length\n",
        "        self.height = length\n",
        "square = Square(4)\n",
        "square.get_area()"
      ]
    },
    {
      "cell_type": "markdown",
      "id": "58f0d234",
      "metadata": {
        "id": "58f0d234"
      },
      "source": [
        "### Q4 Banking System"
      ]
    },
    {
      "cell_type": "markdown",
      "id": "4a02e285",
      "metadata": {
        "id": "4a02e285"
      },
      "source": [
        "* Using Python OOP lets create a bank account.\n",
        "* The bank account should be initalized with  first name, last name, gender and **balance with default of 0**\n",
        "* The class should have the following methods:\n",
        "  - **information**: Display the user full name and the balance in his/her account\n",
        "    eg **Delali Adrah your balance is GHC20.00**\n",
        "    \n",
        "  - deposit: Ask the user  how much he or she wants to deposit in his/her account.\n",
        "  \n",
        "  - **withdraw**: Ask the user how muh he/she want to withdraw form his/her account. Transations is successfuly only if he/she have more money in his/her account and display **Delali Adrah you have withdrawn GHC10.00 from your account. Your balance is GHC10.00**\n",
        "  -**no_transactions**: Displays the total number of successful transaction(deposit and withdraw). eg **Delali Adrah you have made 1 successful transaction(s)**\n",
        "  "
      ]
    },
    {
      "cell_type": "code",
      "execution_count": 73,
      "id": "7ec4c22c",
      "metadata": {},
      "outputs": [
        {
          "name": "stdout",
          "output_type": "stream",
          "text": [
            "No sufficient balance, you have only GHC20 in your account\n"
          ]
        }
      ],
      "source": [
        "# Defining the account class which takes the customers first name, last name, gender and balance\n",
        "class BankAccount:\n",
        "    \n",
        "    #The init method initialises all the info required from the customer\n",
        "    def __init__(self, first_name, last_name, gender, balance = 0):\n",
        "        self.first_name = first_name\n",
        "        self.last_name = last_name\n",
        "        self.gender = gender\n",
        "        self.balance = balance\n",
        "    \n",
        "    # A method which prints user information    \n",
        "    def information(self):\n",
        "        print(f'{self.last_name} {self.first_name} your balance is GHC{self.balance}') \n",
        "    \n",
        "    # Takes the deposit amount (damount) and update the balance\n",
        "    def deposit(self, damount):\n",
        "        self.damount = damount\n",
        "        self.balance = self.balance + self.damount\n",
        "        return self.balance\n",
        "    \n",
        "    # Takes the withdrawal amount (wamount) and check if it is less than the customers balance \n",
        "    # If it is true, then the withdrawal amount is taken from the customers balance \n",
        "    # and the transaction variable is updated by 1\n",
        "    # If not the 'No sufficient balance is printed with the amount left in the account displayed\n",
        "    def withdraw(self, wamount):\n",
        "        transaction = 0\n",
        "        self.wamount = wamount\n",
        "        if self.balance > wamount:\n",
        "            self.balance = self.balance - self.wamount\n",
        "            transaction += 1\n",
        "            print(f'{self.last_name} {self.first_name} has succesfully withdrawn GHC{self.wamount} from your Account you balance is GHC{self.balance}')\n",
        "        else:\n",
        "            print(f'No sufficient balance, you have only GHC{self.balance} in your account')\n",
        "    \n",
        "    # Testing the code with some instance and the method.        \n",
        "    # kofi_acct = BankAccount('Kingsley','Osei Tutu', 'M', 200)\n",
        "    delali_acct = BankAccount('Adrah','Delali', 'M', 20)\n",
        "    # kofi_acct.information()\n",
        "    # kofi_acct.deposit(20)\n",
        "    # kofi_acct.information()\n",
        "    #delali_acct.information()\n",
        "    delali_acct.withdraw(100)"
      ]
    },
    {
      "cell_type": "markdown",
      "id": "c94432a7",
      "metadata": {
        "id": "c94432a7"
      },
      "source": [
        "### Q4 Stacks"
      ]
    },
    {
      "cell_type": "markdown",
      "id": "3fdd4461",
      "metadata": {
        "id": "3fdd4461"
      },
      "source": [
        "A stack is a data structure that stores items in an Last-In/First-Out manner. "
      ]
    },
    {
      "cell_type": "markdown",
      "id": "f0ad4186",
      "metadata": {
        "id": "f0ad4186"
      },
      "source": [
        "1. Create a class Stack with instance variable items initialized to an empty list.\n",
        "2. Define methods push, pop and is_empty inside the class Stack.\n",
        "3. The method push appends data to items.\n",
        "4. The method pop pops the first element in items.\n",
        "5. The method is_empty returns True only if items is empty.\n",
        "6. Method to count the total number of element in the list"
      ]
    },
    {
      "cell_type": "code",
      "execution_count": 98,
      "id": "93aef011",
      "metadata": {
        "id": "93aef011"
      },
      "outputs": [
        {
          "name": "stdout",
          "output_type": "stream",
          "text": [
            "The list is ['Ghana', 'A sentence is this one']\n"
          ]
        }
      ],
      "source": [
        "class Stack:\n",
        "    # The class initialise and empty list\n",
        "    def __init__(self):\n",
        "        self.items = []\n",
        "\n",
        "    # The push method accepts the data to push and append it to the empty \n",
        "    # list of items we have created\n",
        "    def push(self, data):\n",
        "        self.items.append(data)\n",
        "\n",
        "    # Checks if the list not empty first and pops an item\n",
        "    def pop(self):\n",
        "        if not self.is_empty():\n",
        "            return self.items.pop()\n",
        "        else:\n",
        "            return None\n",
        "    # sets every thing to an empty list\n",
        "    def is_empty(self):\n",
        "        return len(self.items) == 0\n",
        "    \n",
        "    # Gives the length of the list\n",
        "    def count(self):\n",
        "        return len(self.items)\n",
        "    \n",
        "    # To print the list of items in the list\n",
        "    def __str__(self):\n",
        "        return f'The list is {self.items}'\n",
        "    \n",
        "    test = Stack()\n",
        "    test.push('Ghana')\n",
        "    test.push('A sentence is this one')\n",
        "    print(test)\n",
        "    "
      ]
    },
    {
      "cell_type": "code",
      "execution_count": null,
      "id": "1842227b",
      "metadata": {},
      "outputs": [],
      "source": []
    }
  ],
  "metadata": {
    "colab": {
      "provenance": []
    },
    "kernelspec": {
      "display_name": "Python 3 (ipykernel)",
      "language": "python",
      "name": "python3"
    },
    "language_info": {
      "codemirror_mode": {
        "name": "ipython",
        "version": 3
      },
      "file_extension": ".py",
      "mimetype": "text/x-python",
      "name": "python",
      "nbconvert_exporter": "python",
      "pygments_lexer": "ipython3",
      "version": "3.9.13"
    }
  },
  "nbformat": 4,
  "nbformat_minor": 5
}
