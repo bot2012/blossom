{
 "cells": [
  {
   "cell_type": "markdown",
   "id": "3c2e90df",
   "metadata": {},
   "source": [
    "### Q1\n",
    "\n",
    "Name the four built-in data structures in python. Give one examples for each"
   ]
  },
  {
   "cell_type": "code",
   "execution_count": 2,
   "id": "f93bfe5c",
   "metadata": {},
   "outputs": [
    {
     "data": {
      "text/plain": [
       "5"
      ]
     },
     "execution_count": 2,
     "metadata": {},
     "output_type": "execute_result"
    }
   ],
   "source": [
    "# List data struct\n",
    "lst = ['Blossom', 'Academy','Fellowship', 'Part Time', 'Cohort', 2023]\n",
    "\n",
    "# Dictionary data structure\n",
    "dct = {'name':'Osei Tutu', 'year':2023, 'cohort':'part time'}\n",
    "\n",
    "# Tuple data structure\n",
    "tup = ('this', 'is', 'a', 'tuple')\n",
    "\n",
    "# Set data structure\n",
    "set_1 = {'set','data structure', 'for','you', 2023}"
   ]
  },
  {
   "cell_type": "markdown",
   "id": "b6e1dd1b",
   "metadata": {},
   "source": [
    "### Q2\n",
    "\n",
    "State two differences between a list and a tuple in Python."
   ]
  },
  {
   "cell_type": "raw",
   "id": "1c1b061c",
   "metadata": {},
   "source": [
    "# Difference between a set and list\n",
    "1. A set contains unique kinds of object but a list can contain a duplicate\n",
    "2. Sets are unordered whist list are order"
   ]
  },
  {
   "cell_type": "markdown",
   "id": "815b4e67",
   "metadata": {},
   "source": [
    "### Q3\n",
    "Make a list containing names of five animals with a variable name `animal_list`\n",
    "\n",
    "Write a code for the following:\n",
    "- Print the first two animals\n",
    "- Print the last two animals\n",
    "- Add three extra animals to the variable `animal_list`\n",
    "- Remove the first two animals from the variable `animal_list`\n",
    "- How many animals are in the `animal_list`?\n",
    "- Create a variable animal_set which stores the set of animal_list \n",
    "- How many elements are in the animal_set?\n"
   ]
  },
  {
   "cell_type": "code",
   "execution_count": 25,
   "id": "048fb849",
   "metadata": {},
   "outputs": [
    {
     "data": {
      "text/plain": [
       "['cat', 'dog']"
      ]
     },
     "execution_count": 25,
     "metadata": {},
     "output_type": "execute_result"
    }
   ],
   "source": [
    "animal_list = ['cat', 'dog', 'snake', 'sheep', 'goat']\n",
    "\n",
    "# Print the first two animals\n",
    "animal_list[0:2]"
   ]
  },
  {
   "cell_type": "code",
   "execution_count": 26,
   "id": "da12b140",
   "metadata": {},
   "outputs": [
    {
     "data": {
      "text/plain": [
       "['sheep', 'goat']"
      ]
     },
     "execution_count": 26,
     "metadata": {},
     "output_type": "execute_result"
    }
   ],
   "source": [
    "# Print the last two animals\n",
    "animal_list[3:5]"
   ]
  },
  {
   "cell_type": "code",
   "execution_count": 27,
   "id": "756c8982",
   "metadata": {},
   "outputs": [],
   "source": [
    "# Add three extra animals to the variable animal_list\n",
    "animal_list.extend(['mosquito', 'ant', 'mouse'])"
   ]
  },
  {
   "cell_type": "code",
   "execution_count": 28,
   "id": "4798cc11",
   "metadata": {},
   "outputs": [
    {
     "data": {
      "text/plain": [
       "['cat', 'dog', 'snake', 'sheep', 'goat', 'mosquito', 'ant', 'mouse']"
      ]
     },
     "execution_count": 28,
     "metadata": {},
     "output_type": "execute_result"
    }
   ],
   "source": [
    "animal_list"
   ]
  },
  {
   "cell_type": "code",
   "execution_count": 29,
   "id": "e141feb6",
   "metadata": {},
   "outputs": [
    {
     "name": "stdout",
     "output_type": "stream",
     "text": [
      "['snake', 'sheep', 'goat', 'mosquito', 'ant', 'mouse']\n"
     ]
    }
   ],
   "source": [
    "# Remove the first two animals from the variable animal_list \n",
    "# animal_list.remove('cat')\n",
    "# animal_list.remove('dog')\n",
    "\n",
    "remove=['cat', 'dog']\n",
    "\n",
    "animal_list = [a for a in animal_list if a not in remove]\n",
    "\n",
    "print(animal_list)\n",
    "\n",
    "\n"
   ]
  },
  {
   "cell_type": "code",
   "execution_count": 30,
   "id": "6918ee78",
   "metadata": {},
   "outputs": [
    {
     "name": "stdout",
     "output_type": "stream",
     "text": [
      "6\n"
     ]
    }
   ],
   "source": [
    "# How many animals are in the animal_list?\n",
    "print(len(animal_list))"
   ]
  },
  {
   "cell_type": "code",
   "execution_count": 31,
   "id": "f177ff57",
   "metadata": {},
   "outputs": [
    {
     "name": "stdout",
     "output_type": "stream",
     "text": [
      "{'ant', 'mouse', 'sheep', 'snake', 'goat', 'mosquito'}\n"
     ]
    }
   ],
   "source": [
    "# Create a variable animal_set which stores the set of animal_list\n",
    "animal_set = set(animal_list)\n",
    "print(animal_set)"
   ]
  },
  {
   "cell_type": "code",
   "execution_count": 32,
   "id": "5c2ec5ce",
   "metadata": {},
   "outputs": [
    {
     "name": "stdout",
     "output_type": "stream",
     "text": [
      "6\n"
     ]
    }
   ],
   "source": [
    "# How many elements are in the animal_set?\n",
    "print(len(animal_set))"
   ]
  },
  {
   "cell_type": "markdown",
   "id": "113c9970",
   "metadata": {},
   "source": [
    "### Q4\n",
    "\n",
    "Given a list:\n",
    "\n",
    "suitcase = [\"sunglasses\", \"hat\", \"passport\", \"laptop\", \"suit\", \"shoes\"]\n",
    "\n",
    "a. Create a list called first containing only the two first items from suitcase.\n",
    "\n",
    "b. Create a list called middle containing only the two middle items from suitcase.\n",
    "\n",
    "c. Create a list called last made up only of the last two items from suitcase."
   ]
  },
  {
   "cell_type": "code",
   "execution_count": 35,
   "id": "262e3585",
   "metadata": {},
   "outputs": [
    {
     "name": "stdout",
     "output_type": "stream",
     "text": [
      "['sunglasses', 'hat']\n"
     ]
    }
   ],
   "source": [
    "suitcase = [\"sunglasses\", \"hat\", \"passport\", \"laptop\", \"suit\", \"shoes\"]\n",
    "\n",
    "# Create a list called first containing only the two first items from suitcase\n",
    "first = suitcase[0:2]\n",
    "print(first)"
   ]
  },
  {
   "cell_type": "code",
   "execution_count": 38,
   "id": "af8100c0",
   "metadata": {},
   "outputs": [
    {
     "name": "stdout",
     "output_type": "stream",
     "text": [
      "['passport', 'laptop']\n"
     ]
    }
   ],
   "source": [
    "# Create a list called middle containing only the two middle items from suitcase\n",
    "middle = suitcase[2:4]\n",
    "print(middle)"
   ]
  },
  {
   "cell_type": "code",
   "execution_count": 48,
   "id": "67530d4f",
   "metadata": {},
   "outputs": [
    {
     "name": "stdout",
     "output_type": "stream",
     "text": [
      "['suit', 'shoes']\n"
     ]
    }
   ],
   "source": [
    "# Create a list called last made up only of the last two items from suitcase\n",
    "last = suitcase[4:6]\n",
    "print(last)"
   ]
  },
  {
   "cell_type": "markdown",
   "id": "711ba044",
   "metadata": {},
   "source": [
    "### Q5\n",
    "Write a python code to insert 35 into the list below. Make sure it is inserted in the right position to maintain the order of the data.\n",
    "\n",
    "`values = [20,25,30,40,45,50,55,60,65,70]`"
   ]
  },
  {
   "cell_type": "code",
   "execution_count": 51,
   "id": "1a5fa54b",
   "metadata": {},
   "outputs": [
    {
     "name": "stdout",
     "output_type": "stream",
     "text": [
      "[20, 25, 30, 35, 40, 45, 50, 55, 60, 65, 70]\n"
     ]
    }
   ],
   "source": [
    "values = [20,25,30,40,45,50,55,60,65,70]\n",
    "values.insert(3, 35)\n",
    "print(values)"
   ]
  },
  {
   "cell_type": "markdown",
   "id": "f535cf64",
   "metadata": {},
   "source": [
    "### Q6\n",
    "\n",
    "Given that Python lists and Python tuples are quite similar – when might you prefer to use a tuple over a list?"
   ]
  },
  {
   "cell_type": "raw",
   "id": "87d66757",
   "metadata": {},
   "source": [
    "Tuples are very much preffered when there is no need changing the items being stored. However, if you want to make changes to the items being stored then list is preffered \n"
   ]
  },
  {
   "cell_type": "markdown",
   "id": "346927f6",
   "metadata": {},
   "source": [
    "### Q7\n",
    "Create a dictionary with 5 Ghana regions and their capitals and store it in the variable `region_capital`\n",
    "\n",
    "- Print out the keys of region_capital\n",
    "- Print out the values of region_capital\n"
   ]
  },
  {
   "cell_type": "code",
   "execution_count": 59,
   "id": "6e2bc84f",
   "metadata": {},
   "outputs": [
    {
     "name": "stdout",
     "output_type": "stream",
     "text": [
      "dict_keys(['Greater Accra', 'Ashanti', 'Eastern', 'Bono', 'Ahafo'])\n",
      "dict_values(['Accra', 'Kumasi', 'Koforidua', 'Sunyani', 'Goaso'])\n"
     ]
    }
   ],
   "source": [
    "region_capital ={'Greater Accra':'Accra', 'Ashanti':'Kumasi', 'Eastern':'Koforidua', 'Bono':'Sunyani', 'Ahafo':'Goaso'}\n",
    "\n",
    "# Print out the keys of region_capital\n",
    "print(region_capital.keys())\n",
    "\n",
    "# Print out the values of region_capital\n",
    "print(region_capital.values())"
   ]
  },
  {
   "cell_type": "markdown",
   "id": "70526b3b",
   "metadata": {},
   "source": [
    "### Q8\n",
    "\n",
    "`values = [3,4,5,6,3,4,3,5,2,4,2,5,6,1,6]`\n",
    "\n",
    "Using the codes above answer the following questions:\n",
    "- What is the total number of elements in values?\n",
    "- What is the highest occuring number in the values variable?\n",
    "- Convert values into a set and store it into a variable named `values_set`\n",
    "- How many elements are in the variable values_set?\n"
   ]
  },
  {
   "cell_type": "code",
   "execution_count": 33,
   "id": "32888793",
   "metadata": {},
   "outputs": [
    {
     "name": "stdout",
     "output_type": "stream",
     "text": [
      "15\n"
     ]
    },
    {
     "data": {
      "text/plain": [
       "3"
      ]
     },
     "execution_count": 33,
     "metadata": {},
     "output_type": "execute_result"
    }
   ],
   "source": [
    "values = [3,4,5,6,3,4,3,5,2,4,2,5,6,1,6]\n",
    "\n",
    "# What is the total number of elements in values?\n",
    "print(len(values))\n",
    "\n",
    "# What is the highest occuring number in the values variable?\n",
    "\n",
    "def highest_occuring(lst):\n",
    "    result = {}\n",
    "    for l in lst:\n",
    "        if l not in result:\n",
    "            result[l]= 0\n",
    "        result[l] += 1\n",
    "    return result\n",
    "   \n",
    "high = highest_occuring(values)\n",
    "\n",
    "max(high.values())\n"
   ]
  },
  {
   "cell_type": "markdown",
   "id": "801d5876",
   "metadata": {},
   "source": [
    "### Q9\n",
    "Write a Python script to print a dictionary where the keys are numbers between 1 and 15 (both included) and the values are the square of the keys."
   ]
  },
  {
   "cell_type": "code",
   "execution_count": 87,
   "id": "b92753ef",
   "metadata": {},
   "outputs": [
    {
     "name": "stdout",
     "output_type": "stream",
     "text": [
      "{1: 1, 2: 4, 3: 9, 4: 16, 5: 25, 6: 36, 7: 49, 8: 64, 9: 81, 10: 100, 11: 121, 12: 144, 13: 169, 14: 196, 15: 225}\n"
     ]
    }
   ],
   "source": [
    "dic = {}\n",
    "for d in range(1,16):\n",
    "    dic[d] = d**2\n",
    "    \n",
    "print(dic)"
   ]
  },
  {
   "cell_type": "markdown",
   "id": "18954e57",
   "metadata": {},
   "source": [
    "### Q10\n",
    "Write a Python program to create a dictionary of keys x, y, and z where each key has as value a list from 11-20, 21-30, and 31-40 respectively. Access the fifth value of each key from the dictionary."
   ]
  },
  {
   "cell_type": "code",
   "execution_count": 23,
   "id": "fec19820",
   "metadata": {},
   "outputs": [],
   "source": [
    "dic = {'x':[11,12,13,14,15,16,17,18,19,20], 'y':[21,22,23,24,25,26,27,28,29,30], 'z':[31,32,33,34,35,36,37,38,39,40]}"
   ]
  },
  {
   "cell_type": "code",
   "execution_count": 26,
   "id": "eb20af8e",
   "metadata": {},
   "outputs": [
    {
     "data": {
      "text/plain": [
       "36"
      ]
     },
     "execution_count": 26,
     "metadata": {},
     "output_type": "execute_result"
    }
   ],
   "source": [
    "# Access the fifth value of each key from the dictionary\n",
    "dic['x'][5]\n",
    "\n",
    "dic['y'][5]\n",
    "\n",
    "dic['z'][5]"
   ]
  }
 ],
 "metadata": {
  "kernelspec": {
   "display_name": "Python 3 (ipykernel)",
   "language": "python",
   "name": "python3"
  },
  "language_info": {
   "codemirror_mode": {
    "name": "ipython",
    "version": 3
   },
   "file_extension": ".py",
   "mimetype": "text/x-python",
   "name": "python",
   "nbconvert_exporter": "python",
   "pygments_lexer": "ipython3",
   "version": "3.9.12"
  }
 },
 "nbformat": 4,
 "nbformat_minor": 5
}
