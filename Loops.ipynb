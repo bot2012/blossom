{
 "cells": [
  {
   "cell_type": "markdown",
   "id": "c981861e",
   "metadata": {},
   "source": [
    "# Q1\n",
    "Write a code to display a list of the first 12 multiples of 8 using a for loop\n"
   ]
  },
  {
   "cell_type": "code",
   "execution_count": 87,
   "id": "f287a5c2",
   "metadata": {},
   "outputs": [
    {
     "data": {
      "text/plain": [
       "[8, 16, 24, 32, 40, 48, 56, 64, 72, 80, 88, 96]"
      ]
     },
     "execution_count": 87,
     "metadata": {},
     "output_type": "execute_result"
    }
   ],
   "source": [
    "lst = []\n",
    "for i in range(1,13):\n",
    "    lst.append((i * 8))\n",
    "lst"
   ]
  },
  {
   "cell_type": "markdown",
   "id": "d9f7d0f9",
   "metadata": {},
   "source": [
    "# Q2\n",
    "Write the code to print sum of all even numbers from 1 to 201"
   ]
  },
  {
   "cell_type": "code",
   "execution_count": 8,
   "id": "ca0b66bc",
   "metadata": {},
   "outputs": [
    {
     "name": "stdout",
     "output_type": "stream",
     "text": [
      "10100\n"
     ]
    }
   ],
   "source": [
    "total = 0\n",
    "for s in range(1,202):\n",
    "    if s%2 == 0:\n",
    "        total +=s\n",
    "print(total)"
   ]
  },
  {
   "cell_type": "markdown",
   "id": "4f0f12d7",
   "metadata": {},
   "source": [
    "# Q3\n",
    "`my_list = [3, 5, 7, 12, 41]`\n",
    "\n",
    "Write the code to display the list of the squares of each number in my list\n",
    "\n",
    "- Without using list comprehension\n",
    "- Using list comprehension\n"
   ]
  },
  {
   "cell_type": "code",
   "execution_count": 19,
   "id": "15a583d5",
   "metadata": {},
   "outputs": [
    {
     "name": "stdout",
     "output_type": "stream",
     "text": [
      "[9, 25, 49, 144, 1681]\n",
      "[9, 25, 49, 144, 1681]\n"
     ]
    }
   ],
   "source": [
    "my_list = [3, 5, 7, 12, 41]\n",
    "\n",
    "lst_sq = []\n",
    "# list of squares without list compreshension\n",
    "for i in my_list:\n",
    "    lst_sq.append((i**2))   \n",
    "print(lst_sq)\n",
    "\n",
    "# List of squares with list comprehension\n",
    "lst_sq2 = [i**2 for i in my_list]\n",
    "print(lst_sq2)"
   ]
  },
  {
   "cell_type": "markdown",
   "id": "28bed149",
   "metadata": {},
   "source": [
    "# Q4\n",
    "`my_list1 = [3, 53,47, 22, 53, 78, 12, 41]`\n",
    "\n",
    "Calculate the average of my_list1\n",
    "\n",
    "- Without using sum and len fucnctions\n",
    "- Using sum and len functions\n"
   ]
  },
  {
   "cell_type": "code",
   "execution_count": 24,
   "id": "5f5e8c94",
   "metadata": {},
   "outputs": [
    {
     "name": "stdout",
     "output_type": "stream",
     "text": [
      "38.625\n"
     ]
    }
   ],
   "source": [
    "my_list1 = [3, 53,47, 22, 53, 78, 12, 41]\n",
    "avg = sum(my_list1) / len(my_list1)\n",
    "print(avg)"
   ]
  },
  {
   "cell_type": "markdown",
   "id": "38c1ddff",
   "metadata": {},
   "source": [
    "# Q4\n",
    "\n",
    "Write a Python program to guess a number between 1 and 9.\n",
    "User is prompted to enter a guess. If the user guesses wrong then the prompt appears again until the guess is correct, on successful guess, user will get a \"Well guessed!\" message, and the program will exit."
   ]
  },
  {
   "cell_type": "code",
   "execution_count": 54,
   "id": "d2325449",
   "metadata": {},
   "outputs": [
    {
     "name": "stdout",
     "output_type": "stream",
     "text": [
      "Enter a guess\n",
      "4\n",
      "Well guessed!\n"
     ]
    }
   ],
   "source": [
    "guess = [1,2,3,4,5,6,7,8,9]\n",
    "cont = 'y'\n",
    "while (cont=='y'):\n",
    "    gw = int(input('Enter a guess\\n'))\n",
    "    if gw in guess:\n",
    "        print('Well guessed!')\n",
    "        break\n",
    "    else:\n",
    "        continue\n",
    "    "
   ]
  },
  {
   "cell_type": "markdown",
   "id": "f5c02baa",
   "metadata": {},
   "source": [
    "# Q5\n",
    "Write a Python program to construct the following pattern.\n",
    "\n",
    "`*` \n",
    "\n",
    "`* *` \n",
    "\n",
    "`* * *` \n",
    "\n",
    "`* * * *` \n",
    "\n",
    "`* * * * *`"
   ]
  },
  {
   "cell_type": "code",
   "execution_count": 7,
   "id": "f7b7c01a",
   "metadata": {},
   "outputs": [
    {
     "name": "stdout",
     "output_type": "stream",
     "text": [
      "*  \n",
      "\n",
      "*  *  \n",
      "\n",
      "*  *  *  \n",
      "\n",
      "*  *  *  *  \n",
      "\n",
      "*  *  *  *  *  \n",
      "\n"
     ]
    }
   ],
   "source": [
    "\n",
    "\n",
    "for i in range(0,5):\n",
    "    for j in range(0,i+1):\n",
    "        print('* ',end=\" \")\n",
    "    print('\\r')\n",
    "    print()"
   ]
  },
  {
   "cell_type": "markdown",
   "id": "e85d94df",
   "metadata": {},
   "source": [
    "# Q6\n",
    "\n",
    "Write a Python program that accepts a word from the user and reverses it."
   ]
  },
  {
   "cell_type": "code",
   "execution_count": 72,
   "id": "122fe69f",
   "metadata": {},
   "outputs": [
    {
     "name": "stdout",
     "output_type": "stream",
     "text": [
      "Enter a word to reverse it \n",
      "This a word\n",
      "The reverse of This a word is drow a sihT \n"
     ]
    }
   ],
   "source": [
    "#Enter a word to reverse\n",
    "word = input(\"Enter a word to reverse it \\n\")\n",
    "# slicing everything in a reverse mana\n",
    "rvrs = word[::-1]\n",
    "print(f\"The reverse of {word} is {rvrs} \")"
   ]
  },
  {
   "cell_type": "markdown",
   "id": "5fe06511",
   "metadata": {},
   "source": [
    "# Q7\n",
    "Write a Python program that accepts a word from the user and reverses it."
   ]
  },
  {
   "cell_type": "code",
   "execution_count": null,
   "id": "6bb14e4a",
   "metadata": {},
   "outputs": [],
   "source": [
    "#Enter a word to reverse\n",
    "word = input(\"Enter a word to reverse it \\n\")\n",
    "# slicing everything in a reverse mana\n",
    "rvrs = word[::-1]\n",
    "print(f\"The reverse of {word} is: {rvrs} \")"
   ]
  },
  {
   "cell_type": "markdown",
   "id": "5a99d4b3",
   "metadata": {},
   "source": [
    "# Q8\n",
    "\n",
    "`lst = [3,4,5,4,7,8,5,8,3,6,8,9,11]`\n",
    "\n",
    "Write a Python program to count the number of even and odd numbers in the above list of numbers.\n",
    "\n",
    "**Expected output should be in this format**\n",
    "\n",
    "{\"Even\" : num_of_even, \"Odd\": num_of_odd}"
   ]
  },
  {
   "cell_type": "code",
   "execution_count": 86,
   "id": "6090541f",
   "metadata": {},
   "outputs": [
    {
     "name": "stdout",
     "output_type": "stream",
     "text": [
      "{'Even': 6, 'Odd': 7}\n"
     ]
    }
   ],
   "source": [
    "lst = [3,4,5,4,7,8,5,8,3,6,8,9,11]\n",
    "\n",
    "result = {'Even':0, 'Odd': 0 }\n",
    "for l in lst:\n",
    "    if l%2 == 0:\n",
    "        result['Even'] += 1\n",
    "    else:\n",
    "        result['Odd'] += 1\n",
    "print(result)"
   ]
  },
  {
   "cell_type": "markdown",
   "id": "c92b54f9",
   "metadata": {},
   "source": [
    "# Q9\n",
    " Write a Python program that iterates the integers from 1 to 50. For multiples of three print \"Fizz\" instead of the number and for multiples of five print \"Buzz\". For numbers that are multiples of three and five, print \"FizzBuzz\".\n",
    "Sample Output :\n",
    "1\n",
    "\n",
    "2\n",
    "\n",
    "fizz\n",
    "\n",
    "4\n",
    "\n",
    "buzz"
   ]
  },
  {
   "cell_type": "code",
   "execution_count": 94,
   "id": "1deacf72",
   "metadata": {},
   "outputs": [
    {
     "name": "stdout",
     "output_type": "stream",
     "text": [
      "3\n",
      "Fizz\n",
      "5\n",
      "Buzz\n",
      "6\n",
      "Fizz\n",
      "9\n",
      "Fizz\n",
      "10\n",
      "Buzz\n",
      "12\n",
      "Fizz\n",
      "15\n",
      "Fizz\n",
      "15\n",
      "Buzz\n",
      "15\n",
      "FizzBuzz\n",
      "18\n",
      "Fizz\n",
      "20\n",
      "Buzz\n",
      "21\n",
      "Fizz\n",
      "24\n",
      "Fizz\n",
      "25\n",
      "Buzz\n",
      "27\n",
      "Fizz\n",
      "30\n",
      "Fizz\n",
      "30\n",
      "Buzz\n",
      "30\n",
      "FizzBuzz\n",
      "33\n",
      "Fizz\n",
      "35\n",
      "Buzz\n",
      "36\n",
      "Fizz\n",
      "39\n",
      "Fizz\n",
      "40\n",
      "Buzz\n",
      "42\n",
      "Fizz\n",
      "45\n",
      "Fizz\n",
      "45\n",
      "Buzz\n",
      "45\n",
      "FizzBuzz\n",
      "48\n",
      "Fizz\n",
      "50\n",
      "Buzz\n"
     ]
    }
   ],
   "source": [
    "for i in range(1,51):\n",
    "    if i % 3 ==0 :\n",
    "        print(i)\n",
    "        print('Fizz')\n",
    "    if i % 5 ==0:\n",
    "        print(i)\n",
    "        print('Buzz')\n",
    "    if i % 3 == 0 and i % 5 ==0:\n",
    "        print(i)\n",
    "        print('FizzBuzz')"
   ]
  },
  {
   "cell_type": "markdown",
   "id": "8d3505cf",
   "metadata": {},
   "source": [
    "# Q10\n",
    " Write a Python program to find the median of three values inputs from the user"
   ]
  },
  {
   "cell_type": "code",
   "execution_count": 23,
   "id": "2010b261",
   "metadata": {},
   "outputs": [
    {
     "name": "stdout",
     "output_type": "stream",
     "text": [
      "Input three numbers separated by spaces\n",
      "45 433 4\n",
      "Sorted list: [4, 45, 433]\n",
      "The median value is 45\n"
     ]
    }
   ],
   "source": [
    "# Collect three input from user separated by space\n",
    "lst = input('Input three numbers separated by spaces\\n').split()\n",
    "\n",
    "# Using list comprehension convert it to int\n",
    "lst = [int(x) for x in lst]\n",
    "\n",
    "#Sort the list using the sorted function\n",
    "lstsort = sorted(lst)\n",
    "\n",
    "# Since we know we are getting three numbers, it makes it easy to find the midean. \n",
    "# The number is already odd so we know the second value is the midean\n",
    "# So sorted list at index 1 (the second position) gives us the median\n",
    "midean = lstsort[1]\n",
    "\n",
    "print(f\"Sorted list: {lstsort}\")\n",
    "print(f\"The median value is {midean}\")"
   ]
  },
  {
   "cell_type": "markdown",
   "id": "9ef4f8a2",
   "metadata": {},
   "source": [
    "# Q11\n",
    "Write a Python program to calculate the sum and average of n integer numbers (input from the user). Input 0 to finish."
   ]
  },
  {
   "cell_type": "code",
   "execution_count": 31,
   "id": "ec3dc365",
   "metadata": {},
   "outputs": [
    {
     "name": "stdout",
     "output_type": "stream",
     "text": [
      "Enter number separated by space and press enter when done\n",
      "4 5 6 7 \n",
      "The sum of values is 22\n",
      "The average of values is 5.5\n"
     ]
    }
   ],
   "source": [
    "# Take input from the user separated by space\n",
    "lst = input('Enter number separated by space and press enter when done\\n').split()\n",
    "\n",
    "# Convert user input int and use list comprehension to store them into a list\n",
    "lst = [int(i) for i in lst]\n",
    "\n",
    "# Calculate the sum of all input\n",
    "total = sum(lst)\n",
    "print(f\"The sum of values is {total}\")\n",
    "\n",
    "# The average of all input by dividign the sum by the lenght of sum\n",
    "avg = total/len(lst)\n",
    "print(f'The average of values is {avg}')"
   ]
  },
  {
   "cell_type": "markdown",
   "id": "45f5c335",
   "metadata": {},
   "source": [
    "# Q12\n",
    " Write a Python program to create the multiplication table (from 1 to 12) of a number input from a user.\n",
    " \n",
    " Expected Output:\n",
    "\n",
    "Input a number: 6                                                       \n",
    "6 x 1 = 6                                                               \n",
    "6 x 2 = 12                                                              \n",
    "6 x 3 = 18                                                              \n",
    "6 x 4 = 24                                                              \n",
    "6 x 5 = 30                                                              \n",
    "6 x 6 = 36                                                              \n",
    "6 x 7 = 42                                                              \n",
    "6 x 8 = 48                                                              \n",
    "6 x 9 = 54                                                              \n",
    "6 x 10 = 60 \n",
    "\n",
    "6 x 11 = 66\n",
    "\n",
    "6 x 12 = 72"
   ]
  },
  {
   "cell_type": "code",
   "execution_count": 50,
   "id": "c548bc93",
   "metadata": {},
   "outputs": [
    {
     "name": "stdout",
     "output_type": "stream",
     "text": [
      "Input a number: 76\n",
      "76 x 1 = 76\n",
      "76 x 2 = 152\n",
      "76 x 3 = 228\n",
      "76 x 4 = 304\n",
      "76 x 5 = 380\n",
      "76 x 6 = 456\n",
      "76 x 7 = 532\n",
      "76 x 8 = 608\n",
      "76 x 9 = 684\n",
      "76 x 10 = 760\n",
      "76 x 11 = 836\n",
      "76 x 12 = 912\n"
     ]
    }
   ],
   "source": [
    "# Collect an input from a user and convert to an int\n",
    "inpt = int(input('Input a number: '))\n",
    "\n",
    "# Defining a range to multiply the user input with\n",
    "for i in range(1,13):\n",
    "    print(f'{inpt} x {i} =', i * inpt)"
   ]
  },
  {
   "cell_type": "markdown",
   "id": "8cc97048",
   "metadata": {},
   "source": [
    "# Q13\n",
    "Write a Python program to construct the following pattern\n",
    "\n",
    "1\n",
    "\n",
    "22\n",
    "\n",
    "333\n",
    "\n",
    "4444\n",
    "\n",
    "55555\n",
    "\n",
    "666666\n",
    "\n",
    "7777777\n",
    "\n",
    "88888888\n",
    "\n",
    "999999999"
   ]
  },
  {
   "cell_type": "code",
   "execution_count": 51,
   "id": "a1c94105",
   "metadata": {},
   "outputs": [
    {
     "name": "stdout",
     "output_type": "stream",
     "text": [
      "1\n",
      "\n",
      "22\n",
      "\n",
      "333\n",
      "\n",
      "4444\n",
      "\n",
      "55555\n",
      "\n",
      "666666\n",
      "\n",
      "7777777\n",
      "\n",
      "88888888\n",
      "\n",
      "999999999\n",
      "\n"
     ]
    }
   ],
   "source": [
    "# We convert i which starts from 1 to 9 to string and multiply it by the int(i) which is an integer\n",
    "# This is called string multiplication\n",
    "\n",
    "for i in range(1,10):\n",
    "    print(str(i) * int(i))\n",
    "    print()"
   ]
  },
  {
   "cell_type": "markdown",
   "id": "adef967a",
   "metadata": {},
   "source": [
    "# Q14\n",
    "Print sum of all odd numbers from 10 to 50"
   ]
  },
  {
   "cell_type": "code",
   "execution_count": 54,
   "id": "e3fe4b54",
   "metadata": {},
   "outputs": [
    {
     "name": "stdout",
     "output_type": "stream",
     "text": [
      "600\n"
     ]
    }
   ],
   "source": [
    "# Declare total to hold the sum of odd numbers\n",
    "total = 0\n",
    "\n",
    "# We loop through range 10 to 51 and store in i\n",
    "# We checkt of i divide two \n",
    "for i in range(10,51):\n",
    "    if i % 2 != 0:\n",
    "        total = total + i\n",
    "print(total)"
   ]
  },
  {
   "cell_type": "code",
   "execution_count": null,
   "id": "476b29de",
   "metadata": {},
   "outputs": [],
   "source": []
  },
  {
   "cell_type": "markdown",
   "id": "1642ec1a",
   "metadata": {},
   "source": [
    "# Q15\n",
    "\n",
    "`my_list = [25, 100, 121, 400, 81]`\n",
    "\n",
    "Write the code to display the list of the square root of each number in my list\n",
    "\n",
    "- Without using list comprehension\n",
    "- Using list comprehension"
   ]
  },
  {
   "cell_type": "code",
   "execution_count": 60,
   "id": "be3f0615",
   "metadata": {},
   "outputs": [
    {
     "name": "stdout",
     "output_type": "stream",
     "text": [
      "[5.0, 10.0, 11.0, 20.0, 9.0]\n",
      "[5.0, 10.0, 11.0, 20.0, 9.0]\n"
     ]
    }
   ],
   "source": [
    "my_list = [25, 100, 121, 400, 81]\n",
    "\n",
    "# Declare a list to hold the square roots\n",
    "lst = []\n",
    "for i in my_list:\n",
    "    lst.append((i ** 0.5))\n",
    "print(lst)\n",
    "    \n",
    "    \n",
    "sqrt = [i ** 0.5 for i in my_list]\n",
    "print(sq)"
   ]
  },
  {
   "cell_type": "code",
   "execution_count": null,
   "id": "123f79f6",
   "metadata": {},
   "outputs": [],
   "source": []
  }
 ],
 "metadata": {
  "kernelspec": {
   "display_name": "Python 3 (ipykernel)",
   "language": "python",
   "name": "python3"
  },
  "language_info": {
   "codemirror_mode": {
    "name": "ipython",
    "version": 3
   },
   "file_extension": ".py",
   "mimetype": "text/x-python",
   "name": "python",
   "nbconvert_exporter": "python",
   "pygments_lexer": "ipython3",
   "version": "3.9.13"
  }
 },
 "nbformat": 4,
 "nbformat_minor": 5
}
